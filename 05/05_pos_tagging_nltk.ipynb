{
 "cells": [
  {
   "cell_type": "code",
   "execution_count": 6,
   "metadata": {},
   "outputs": [],
   "source": [
    "import matplotlib.pyplot as plt\n",
    "plt.style.use('default')\n",
    "import numpy as np\n",
    "import re"
   ]
  },
  {
   "cell_type": "code",
   "execution_count": 7,
   "metadata": {},
   "outputs": [
    {
     "data": {
      "text/plain": [
       "[('uma', 'N'), ('frase', 'N'), ('qualquer', 'N')]"
      ]
     },
     "execution_count": 7,
     "metadata": {},
     "output_type": "execute_result"
    }
   ],
   "source": [
    "from nltk.tag import DefaultTagger \n",
    "default_tagger = DefaultTagger('N')\n",
    "frase = \"uma frase qualquer\".split()\n",
    "default_tagger.tag(frase)"
   ]
  },
  {
   "cell_type": "code",
   "execution_count": null,
   "metadata": {},
   "outputs": [],
   "source": []
  },
  {
   "cell_type": "code",
   "execution_count": 28,
   "metadata": {},
   "outputs": [
    {
     "name": "stdout",
     "output_type": "stream",
     "text": [
      "[[('jersei', 'N'), ('atinge', 'V'), ('média', 'N'), ('de', 'PREP'), ('cr$', 'CUR'), ('1,4', 'NUM'), ('milhão', 'N'), ('na', 'PREP+ART'), ('venda', 'N'), ('da', 'PREP+ART'), ('pinhal', 'NPROP'), ('em', 'PREP'), ('são', 'NPROP'), ('paulo', 'NPROP')], [('programe', 'V'), ('sua', 'PROADJ'), ('viagem', 'N'), ('à', 'PREP+ART'), ('exposição', 'NPROP'), ('nacional', 'NPROP'), ('do', 'NPROP'), ('zebu', 'NPROP'), (',', 'PU'), ('que', 'PRO-KS'), ('começa', 'V'), ('dia', 'N'), ('25', 'N')]]\n"
     ]
    }
   ],
   "source": [
    "# Carregar o corpus e pré-processar\n",
    "with open('./../datasets/macmorpho-train.txt', 'r', encoding='utf-8') as sa:\n",
    "    s = sa.read()\n",
    "s = re.split(r'\\.+_PU', s)\n",
    "s = [s0.strip() for s0 in s]\n",
    "s = [re.split('\\s+', s0) for s0 in s]\n",
    "s = [ [ tuple(re.split('_', w0)) for w0 in p] for p in s]\n",
    "s = [ [ w for w in p if len(w)==2 ] for p in s ] \n",
    "s = [ [ (w[0].lower(), w[1]) for w in p] for p in s ]\n",
    "s = [p for p in s if len(p)>5]\n",
    "# s[frase][palavra] = (palavra, tipo)\n",
    "print(s[0:2])"
   ]
  },
  {
   "cell_type": "code",
   "execution_count": 29,
   "metadata": {},
   "outputs": [],
   "source": [
    "# Carregar o corpus de teste\n",
    "# Carregar o corpus e pré-processar\n",
    "with open('./../datasets/macmorpho-test.txt', 'r', encoding='utf-8') as sa:\n",
    "    s_ = sa.read()\n",
    "s_ = re.split(r'\\.+_PU', s_)\n",
    "s_ = [s0.strip() for s0 in s_]\n",
    "s_ = [re.split('\\s+', s0) for s0 in s_]\n",
    "s_ = [ [ tuple(re.split('_', w0)) for w0 in p] for p in s_]\n",
    "#s = [ [ t for t in p if t[0] in vocab.keys() ] for p in s ]\n",
    "s_ = [ [ w for w in p if len(w)==2 ] for p in s_ ] \n",
    "s_ = [ [ (w[0].lower(), w[1]) for w in p] for p in s_ ]\n",
    "s_ = [p for p in s_ if len(p)>5]\n",
    "# s[frase][palavra] = (palavra, tipo)"
   ]
  },
  {
   "cell_type": "code",
   "execution_count": null,
   "metadata": {},
   "outputs": [],
   "source": []
  },
  {
   "cell_type": "code",
   "execution_count": 14,
   "metadata": {},
   "outputs": [
    {
     "name": "stderr",
     "output_type": "stream",
     "text": [
      "C:\\Users\\arfel\\AppData\\Local\\Temp\\ipykernel_20848\\374903381.py:1: DeprecationWarning: \n",
      "  Function evaluate() has been deprecated.  Use accuracy(gold)\n",
      "  instead.\n",
      "  default_tagger.evaluate(s_)\n"
     ]
    },
    {
     "data": {
      "text/plain": [
       "0.214927757379238"
      ]
     },
     "execution_count": 14,
     "metadata": {},
     "output_type": "execute_result"
    }
   ],
   "source": [
    "default_tagger.evaluate(s_)"
   ]
  },
  {
   "cell_type": "code",
   "execution_count": null,
   "metadata": {},
   "outputs": [],
   "source": []
  },
  {
   "cell_type": "code",
   "execution_count": 15,
   "metadata": {},
   "outputs": [
    {
     "name": "stderr",
     "output_type": "stream",
     "text": [
      "C:\\Users\\arfel\\AppData\\Local\\Temp\\ipykernel_20848\\2017935722.py:3: DeprecationWarning: \n",
      "  Function evaluate() has been deprecated.  Use accuracy(gold)\n",
      "  instead.\n",
      "  unigram_tagger.evaluate(s_)\n"
     ]
    },
    {
     "data": {
      "text/plain": [
       "0.8750357636736446"
      ]
     },
     "execution_count": 15,
     "metadata": {},
     "output_type": "execute_result"
    }
   ],
   "source": [
    "from nltk.tag import UnigramTagger\n",
    "unigram_tagger = UnigramTagger(s, backoff=default_tagger)\n",
    "unigram_tagger.evaluate(s_)"
   ]
  },
  {
   "cell_type": "code",
   "execution_count": 16,
   "metadata": {},
   "outputs": [
    {
     "name": "stderr",
     "output_type": "stream",
     "text": [
      "C:\\Users\\arfel\\AppData\\Local\\Temp\\ipykernel_20848\\3677987168.py:3: DeprecationWarning: \n",
      "  Function evaluate() has been deprecated.  Use accuracy(gold)\n",
      "  instead.\n",
      "  affix_tagger.evaluate(s_)\n"
     ]
    },
    {
     "data": {
      "text/plain": [
       "0.29652853941156837"
      ]
     },
     "execution_count": 16,
     "metadata": {},
     "output_type": "execute_result"
    }
   ],
   "source": [
    "from nltk.tag import AffixTagger \n",
    "affix_tagger = AffixTagger(s, affix_length=-3, min_stem_length=2)\n",
    "affix_tagger.evaluate(s_)"
   ]
  },
  {
   "cell_type": "code",
   "execution_count": 17,
   "metadata": {},
   "outputs": [
    {
     "name": "stderr",
     "output_type": "stream",
     "text": [
      "C:\\Users\\arfel\\AppData\\Local\\Temp\\ipykernel_20848\\4156730354.py:3: DeprecationWarning: \n",
      "  Function evaluate() has been deprecated.  Use accuracy(gold)\n",
      "  instead.\n",
      "  tagger.evaluate(s_)\n"
     ]
    },
    {
     "data": {
      "text/plain": [
       "0.294513852462925"
      ]
     },
     "execution_count": 17,
     "metadata": {},
     "output_type": "execute_result"
    }
   ],
   "source": [
    "from nltk.tag import BigramTagger\n",
    "tagger = BigramTagger(s)\n",
    "tagger.evaluate(s_)"
   ]
  },
  {
   "cell_type": "code",
   "execution_count": 18,
   "metadata": {},
   "outputs": [
    {
     "name": "stdout",
     "output_type": "stream",
     "text": [
      "[('as', 'ART'), ('pessoas', 'N'), ('são', 'V'), ('tão', 'ADV'), ('loucas', None)]\n"
     ]
    }
   ],
   "source": [
    "#frase = \"São Paulo é uma cidade grande\"\n",
    "frase = \"As pessoas são tão loucas\"\n",
    "print(tagger.tag(frase.lower().split()))\n"
   ]
  },
  {
   "cell_type": "code",
   "execution_count": 19,
   "metadata": {},
   "outputs": [
    {
     "name": "stderr",
     "output_type": "stream",
     "text": [
      "C:\\Users\\arfel\\AppData\\Local\\Temp\\ipykernel_20848\\1905536136.py:3: DeprecationWarning: \n",
      "  Function evaluate() has been deprecated.  Use accuracy(gold)\n",
      "  instead.\n",
      "  ngram_tagger.evaluate(s_)\n"
     ]
    },
    {
     "data": {
      "text/plain": [
       "0.86343641218826"
      ]
     },
     "execution_count": 19,
     "metadata": {},
     "output_type": "execute_result"
    }
   ],
   "source": [
    "from nltk.tag import NgramTagger\n",
    "ngram_tagger = NgramTagger(1, s)\n",
    "ngram_tagger.evaluate(s_)\n"
   ]
  },
  {
   "cell_type": "code",
   "execution_count": 21,
   "metadata": {},
   "outputs": [],
   "source": [
    "taggers = []\n",
    "taggers.append(DefaultTagger('N'))\n",
    "\n",
    "for n in range(3):\n",
    "    taggers.append(NgramTagger(n+1, s, backoff=taggers[-1]))\n"
   ]
  },
  {
   "cell_type": "code",
   "execution_count": null,
   "metadata": {},
   "outputs": [],
   "source": [
    "acc = []\n",
    "for t in taggers:\n",
    "    acc.append(t.evaluate(s_))\n",
    "print(acc)"
   ]
  },
  {
   "cell_type": "code",
   "execution_count": null,
   "metadata": {},
   "outputs": [],
   "source": [
    "plt.figure()\n",
    "plt.plot(np.arange(len(acc)), acc)\n",
    "plt.show()"
   ]
  },
  {
   "cell_type": "code",
   "execution_count": 23,
   "metadata": {},
   "outputs": [
    {
     "name": "stderr",
     "output_type": "stream",
     "text": [
      "[nltk_data] Downloading package averaged_perceptron_tagger to\n",
      "[nltk_data]     C:\\Users\\arfel\\AppData\\Roaming\\nltk_data...\n",
      "[nltk_data]   Package averaged_perceptron_tagger is already up-to-\n",
      "[nltk_data]       date!\n"
     ]
    },
    {
     "data": {
      "text/plain": [
       "[('this', 'DT'),\n",
       " ('is', 'VBZ'),\n",
       " ('my', 'PRP$'),\n",
       " ('testing', 'JJ'),\n",
       " ('sentence', 'NN')]"
      ]
     },
     "execution_count": 23,
     "metadata": {},
     "output_type": "execute_result"
    }
   ],
   "source": [
    "from nltk import download, pos_tag\n",
    "download('averaged_perceptron_tagger')\n",
    "pos_tag(\"this is my testing sentence\".split())"
   ]
  },
  {
   "cell_type": "code",
   "execution_count": null,
   "metadata": {},
   "outputs": [],
   "source": []
  }
 ],
 "metadata": {
  "interpreter": {
   "hash": "b3ba2566441a7c06988d0923437866b63cedc61552a5af99d1f4fb67d367b25f"
  },
  "kernelspec": {
   "display_name": "Python 3.9.7 64-bit ('base': conda)",
   "language": "python",
   "name": "python3"
  },
  "language_info": {
   "codemirror_mode": {
    "name": "ipython",
    "version": 3
   },
   "file_extension": ".py",
   "mimetype": "text/x-python",
   "name": "python",
   "nbconvert_exporter": "python",
   "pygments_lexer": "ipython3",
   "version": "3.10.2"
  },
  "orig_nbformat": 4
 },
 "nbformat": 4,
 "nbformat_minor": 2
}
