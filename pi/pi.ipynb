{
 "cells": [
  {
   "cell_type": "code",
   "execution_count": 2,
   "metadata": {},
   "outputs": [
    {
     "name": "stderr",
     "output_type": "stream",
     "text": [
      "[nltk_data] Downloading package stopwords to\n",
      "[nltk_data]     C:\\Users\\arfel\\AppData\\Roaming\\nltk_data...\n",
      "[nltk_data]   Package stopwords is already up-to-date!\n"
     ]
    },
    {
     "data": {
      "text/plain": [
       "True"
      ]
     },
     "execution_count": 2,
     "metadata": {},
     "output_type": "execute_result"
    }
   ],
   "source": [
    "import pandas as pd\n",
    "from nltk.corpus import stopwords\n",
    "from sklearn.feature_extraction.text import TfidfVectorizer\n",
    "from nltk import download as nltk_download\n",
    "import matplotlib.pyplot as plt\n",
    "import re\n",
    "from pprint import pprint\n",
    "# we use pathos to speed up the process of counting ngrams using multiprocessing, it is nedded because python can't pickle nummpy arrays\n",
    "try:\n",
    "    from pathos.multiprocessing import cpu_count, Pool\n",
    "except:\n",
    "    !pip install pathos\n",
    "    from pathos.multiprocessing import cpu_count, Pool\n",
    "from functools import partial\n",
    "import seaborn as sns\n",
    "nltk_download('stopwords')"
   ]
  },
  {
   "cell_type": "markdown",
   "metadata": {},
   "source": [
    "# 1. Introdução\n",
    "\n",
    "Neste notebook iremos analisar as reviews de um e-commerce com o objetivo de descobrir em que área a empresa deveria focar para minimizar os reviews negativos de clientes.\n",
    "\n",
    "Os dados estão disponíveis no [Kaggle](https://www.kaggle.com/datasets/olistbr/brazilian-ecommerce) e iremos utilizar 5 dos 9 csvs disponíveis, sendo que esses csvs são:\n",
    "* olist_orders_dataset: dados de pedidos, incluindo quando horários de compra, entrega, etc.\n",
    "* olist_order_reviews_dataset: os reviews dos clientes, incluindo a nota, o comentário e a data de avaliação.\n",
    "* olist_order_items_dataset: que apenas utlilizaremos para descobrir o id do vendedor.\n",
    "* olist_customers_dataset: que apenas utlilizaremos para descobrir o estado do cliente.\n",
    "* olist_sellers_dataset: que apenas utlilizaremos para descobrir o estado do vendedor."
   ]
  },
  {
   "cell_type": "markdown",
   "metadata": {},
   "source": [
    "# 2. Análise exploratória dos dados"
   ]
  },
  {
   "cell_type": "markdown",
   "metadata": {},
   "source": [
    "Lendo os dados e separando as colunas que utilizaremos para a análise e juntando os dataframes"
   ]
  },
  {
   "cell_type": "code",
   "execution_count": 3,
   "metadata": {},
   "outputs": [
    {
     "data": {
      "text/html": [
       "<div>\n",
       "<style scoped>\n",
       "    .dataframe tbody tr th:only-of-type {\n",
       "        vertical-align: middle;\n",
       "    }\n",
       "\n",
       "    .dataframe tbody tr th {\n",
       "        vertical-align: top;\n",
       "    }\n",
       "\n",
       "    .dataframe thead th {\n",
       "        text-align: right;\n",
       "    }\n",
       "</style>\n",
       "<table border=\"1\" class=\"dataframe\">\n",
       "  <thead>\n",
       "    <tr style=\"text-align: right;\">\n",
       "      <th></th>\n",
       "      <th>review_score</th>\n",
       "      <th>review_comment_message</th>\n",
       "      <th>review_creation_date</th>\n",
       "      <th>order_purchase_timestamp</th>\n",
       "      <th>order_approved_at</th>\n",
       "      <th>order_delivered_carrier_date</th>\n",
       "      <th>order_delivered_customer_date</th>\n",
       "      <th>order_estimated_delivery_date</th>\n",
       "      <th>customer_state</th>\n",
       "      <th>seller_state</th>\n",
       "    </tr>\n",
       "    <tr>\n",
       "      <th>order_id</th>\n",
       "      <th></th>\n",
       "      <th></th>\n",
       "      <th></th>\n",
       "      <th></th>\n",
       "      <th></th>\n",
       "      <th></th>\n",
       "      <th></th>\n",
       "      <th></th>\n",
       "      <th></th>\n",
       "      <th></th>\n",
       "    </tr>\n",
       "  </thead>\n",
       "  <tbody>\n",
       "    <tr>\n",
       "      <th>00010242fe8c5a6d1ba2dd792cb16214</th>\n",
       "      <td>5</td>\n",
       "      <td>Perfeito, produto entregue antes do combinado.</td>\n",
       "      <td>2017-09-21</td>\n",
       "      <td>2017-09-13 08:59:02</td>\n",
       "      <td>2017-09-13 09:45:35</td>\n",
       "      <td>2017-09-19 18:34:16</td>\n",
       "      <td>2017-09-20 23:43:48</td>\n",
       "      <td>2017-09-29</td>\n",
       "      <td>RJ</td>\n",
       "      <td>SP</td>\n",
       "    </tr>\n",
       "    <tr>\n",
       "      <th>0188777fe321843a18be24a6e9aa1e53</th>\n",
       "      <td>5</td>\n",
       "      <td>ÓTIMO</td>\n",
       "      <td>2017-07-29</td>\n",
       "      <td>2017-07-23 16:13:37</td>\n",
       "      <td>2017-07-25 14:35:11</td>\n",
       "      <td>2017-07-27 18:45:50</td>\n",
       "      <td>2017-07-28 16:18:00</td>\n",
       "      <td>2017-08-08</td>\n",
       "      <td>RJ</td>\n",
       "      <td>SP</td>\n",
       "    </tr>\n",
       "    <tr>\n",
       "      <th>0191bbb5166d4b9a68df11797d5acfa9</th>\n",
       "      <td>5</td>\n",
       "      <td>Recebi o patines em perfeitas condições bem an...</td>\n",
       "      <td>2017-08-25</td>\n",
       "      <td>2017-08-10 12:17:35</td>\n",
       "      <td>2017-08-10 12:30:15</td>\n",
       "      <td>2017-08-15 19:26:45</td>\n",
       "      <td>2017-08-24 18:15:16</td>\n",
       "      <td>2017-09-08</td>\n",
       "      <td>RS</td>\n",
       "      <td>SP</td>\n",
       "    </tr>\n",
       "    <tr>\n",
       "      <th>0c325ea6925de749e1420be0cf43587c</th>\n",
       "      <td>4</td>\n",
       "      <td>Atendimento excelente,o produto chegou antes d...</td>\n",
       "      <td>2017-07-11</td>\n",
       "      <td>2017-07-01 15:27:23</td>\n",
       "      <td>2017-07-01 15:43:50</td>\n",
       "      <td>2017-07-05 12:00:33</td>\n",
       "      <td>2017-07-10 17:17:21</td>\n",
       "      <td>2017-07-25</td>\n",
       "      <td>SP</td>\n",
       "      <td>SP</td>\n",
       "    </tr>\n",
       "    <tr>\n",
       "      <th>130898c0987d1801452a8ed92a670612</th>\n",
       "      <td>5</td>\n",
       "      <td>lannister como sempre, entregou certinho e den...</td>\n",
       "      <td>2017-07-14</td>\n",
       "      <td>2017-06-28 11:52:20</td>\n",
       "      <td>2017-06-29 02:44:11</td>\n",
       "      <td>2017-07-05 12:00:33</td>\n",
       "      <td>2017-07-13 20:39:29</td>\n",
       "      <td>2017-07-26</td>\n",
       "      <td>GO</td>\n",
       "      <td>SP</td>\n",
       "    </tr>\n",
       "  </tbody>\n",
       "</table>\n",
       "</div>"
      ],
      "text/plain": [
       "                                  review_score  \\\n",
       "order_id                                         \n",
       "00010242fe8c5a6d1ba2dd792cb16214             5   \n",
       "0188777fe321843a18be24a6e9aa1e53             5   \n",
       "0191bbb5166d4b9a68df11797d5acfa9             5   \n",
       "0c325ea6925de749e1420be0cf43587c             4   \n",
       "130898c0987d1801452a8ed92a670612             5   \n",
       "\n",
       "                                                             review_comment_message  \\\n",
       "order_id                                                                              \n",
       "00010242fe8c5a6d1ba2dd792cb16214     Perfeito, produto entregue antes do combinado.   \n",
       "0188777fe321843a18be24a6e9aa1e53                                              ÓTIMO   \n",
       "0191bbb5166d4b9a68df11797d5acfa9  Recebi o patines em perfeitas condições bem an...   \n",
       "0c325ea6925de749e1420be0cf43587c  Atendimento excelente,o produto chegou antes d...   \n",
       "130898c0987d1801452a8ed92a670612  lannister como sempre, entregou certinho e den...   \n",
       "\n",
       "                                 review_creation_date  \\\n",
       "order_id                                                \n",
       "00010242fe8c5a6d1ba2dd792cb16214           2017-09-21   \n",
       "0188777fe321843a18be24a6e9aa1e53           2017-07-29   \n",
       "0191bbb5166d4b9a68df11797d5acfa9           2017-08-25   \n",
       "0c325ea6925de749e1420be0cf43587c           2017-07-11   \n",
       "130898c0987d1801452a8ed92a670612           2017-07-14   \n",
       "\n",
       "                                 order_purchase_timestamp   order_approved_at  \\\n",
       "order_id                                                                        \n",
       "00010242fe8c5a6d1ba2dd792cb16214      2017-09-13 08:59:02 2017-09-13 09:45:35   \n",
       "0188777fe321843a18be24a6e9aa1e53      2017-07-23 16:13:37 2017-07-25 14:35:11   \n",
       "0191bbb5166d4b9a68df11797d5acfa9      2017-08-10 12:17:35 2017-08-10 12:30:15   \n",
       "0c325ea6925de749e1420be0cf43587c      2017-07-01 15:27:23 2017-07-01 15:43:50   \n",
       "130898c0987d1801452a8ed92a670612      2017-06-28 11:52:20 2017-06-29 02:44:11   \n",
       "\n",
       "                                 order_delivered_carrier_date  \\\n",
       "order_id                                                        \n",
       "00010242fe8c5a6d1ba2dd792cb16214          2017-09-19 18:34:16   \n",
       "0188777fe321843a18be24a6e9aa1e53          2017-07-27 18:45:50   \n",
       "0191bbb5166d4b9a68df11797d5acfa9          2017-08-15 19:26:45   \n",
       "0c325ea6925de749e1420be0cf43587c          2017-07-05 12:00:33   \n",
       "130898c0987d1801452a8ed92a670612          2017-07-05 12:00:33   \n",
       "\n",
       "                                 order_delivered_customer_date  \\\n",
       "order_id                                                         \n",
       "00010242fe8c5a6d1ba2dd792cb16214           2017-09-20 23:43:48   \n",
       "0188777fe321843a18be24a6e9aa1e53           2017-07-28 16:18:00   \n",
       "0191bbb5166d4b9a68df11797d5acfa9           2017-08-24 18:15:16   \n",
       "0c325ea6925de749e1420be0cf43587c           2017-07-10 17:17:21   \n",
       "130898c0987d1801452a8ed92a670612           2017-07-13 20:39:29   \n",
       "\n",
       "                                 order_estimated_delivery_date customer_state  \\\n",
       "order_id                                                                        \n",
       "00010242fe8c5a6d1ba2dd792cb16214                    2017-09-29             RJ   \n",
       "0188777fe321843a18be24a6e9aa1e53                    2017-08-08             RJ   \n",
       "0191bbb5166d4b9a68df11797d5acfa9                    2017-09-08             RS   \n",
       "0c325ea6925de749e1420be0cf43587c                    2017-07-25             SP   \n",
       "130898c0987d1801452a8ed92a670612                    2017-07-26             GO   \n",
       "\n",
       "                                 seller_state  \n",
       "order_id                                       \n",
       "00010242fe8c5a6d1ba2dd792cb16214           SP  \n",
       "0188777fe321843a18be24a6e9aa1e53           SP  \n",
       "0191bbb5166d4b9a68df11797d5acfa9           SP  \n",
       "0c325ea6925de749e1420be0cf43587c           SP  \n",
       "130898c0987d1801452a8ed92a670612           SP  "
      ]
     },
     "execution_count": 3,
     "metadata": {},
     "output_type": "execute_result"
    }
   ],
   "source": [
    "delivery = pd.read_csv(\"olist_orders_dataset.csv\")\n",
    "reviews = pd.read_csv(\"olist_order_reviews_dataset.csv\")\n",
    "order_items = pd.read_csv(\"olist_order_items_dataset.csv\")\n",
    "custumers = pd.read_csv(\"olist_customers_dataset.csv\")\n",
    "sellers = pd.read_csv(\"olist_sellers_dataset.csv\")\n",
    "\n",
    "# change de index to order_id\n",
    "reviews.set_index(\"order_id\", inplace=True)\n",
    "delivery.set_index(\"order_id\", inplace=True)\n",
    "order_items.set_index(\"order_id\", inplace=True)\n",
    "custumers.set_index(\"customer_id\", inplace=True)\n",
    "sellers.set_index(\"seller_id\", inplace=True)\n",
    "# drop the columns that we don't need\n",
    "reviews = reviews[[\"review_score\", \"review_comment_message\", \"review_creation_date\"]]\n",
    "delivery = delivery[[\"order_purchase_timestamp\", \"order_approved_at\", \"order_delivered_carrier_date\", \"order_delivered_customer_date\", \"order_estimated_delivery_date\", \"customer_id\"]]\n",
    "order_items = order_items[[\"seller_id\"]]\n",
    "custumers = custumers[[\"customer_state\"]]\n",
    "sellers = sellers[[\"seller_state\"]]\n",
    "# merge the two dataframes\n",
    "data = pd.merge(reviews, delivery, left_index=True, right_index=True)\n",
    "data = pd.merge(data, order_items, left_index=True, right_index=True)\n",
    "# merge data and custumers when the customer_id is the same\n",
    "data = pd.merge(data, custumers, left_on=\"customer_id\", right_index=True)\n",
    "# merge data and sellers when the seller_id is the same\n",
    "data = pd.merge(data, sellers, left_on=\"seller_id\", right_index=True)\n",
    "\n",
    "data.dropna(inplace=True)\n",
    "# converting the date to datetime\n",
    "data[\"order_purchase_timestamp\"] = pd.to_datetime(data[\"order_purchase_timestamp\"])\n",
    "data[\"order_approved_at\"] = pd.to_datetime(data[\"order_approved_at\"])\n",
    "data[\"order_delivered_carrier_date\"] = pd.to_datetime(data[\"order_delivered_carrier_date\"])\n",
    "data[\"order_delivered_customer_date\"] = pd.to_datetime(data[\"order_delivered_customer_date\"])\n",
    "data[\"order_estimated_delivery_date\"] = pd.to_datetime(data[\"order_estimated_delivery_date\"])\n",
    "data[\"review_creation_date\"] = pd.to_datetime(data[\"review_creation_date\"])\n",
    "\n",
    "# drop the columns that we don't need anymore\n",
    "data.drop([\"customer_id\", \"seller_id\"], axis=1, inplace=True)\n",
    "\n",
    "data.head()"
   ]
  },
  {
   "cell_type": "markdown",
   "metadata": {},
   "source": [
    "Pegando apenas os reviews negativos, pois são neles aonde conseguimos descobrir o que a empresam pode melhorar para melhor atender os seus clientes "
   ]
  },
  {
   "cell_type": "code",
   "execution_count": 4,
   "metadata": {},
   "outputs": [
    {
     "data": {
      "text/html": [
       "<div>\n",
       "<style scoped>\n",
       "    .dataframe tbody tr th:only-of-type {\n",
       "        vertical-align: middle;\n",
       "    }\n",
       "\n",
       "    .dataframe tbody tr th {\n",
       "        vertical-align: top;\n",
       "    }\n",
       "\n",
       "    .dataframe thead th {\n",
       "        text-align: right;\n",
       "    }\n",
       "</style>\n",
       "<table border=\"1\" class=\"dataframe\">\n",
       "  <thead>\n",
       "    <tr style=\"text-align: right;\">\n",
       "      <th></th>\n",
       "      <th>score</th>\n",
       "      <th>comment</th>\n",
       "      <th>review_date</th>\n",
       "      <th>purchase_timestamp</th>\n",
       "      <th>approved_at</th>\n",
       "      <th>delivered_transportadora</th>\n",
       "      <th>custumer_received</th>\n",
       "      <th>expected_delivery</th>\n",
       "      <th>customer_state</th>\n",
       "      <th>seller_state</th>\n",
       "    </tr>\n",
       "    <tr>\n",
       "      <th>order_id</th>\n",
       "      <th></th>\n",
       "      <th></th>\n",
       "      <th></th>\n",
       "      <th></th>\n",
       "      <th></th>\n",
       "      <th></th>\n",
       "      <th></th>\n",
       "      <th></th>\n",
       "      <th></th>\n",
       "      <th></th>\n",
       "    </tr>\n",
       "  </thead>\n",
       "  <tbody>\n",
       "    <tr>\n",
       "      <th>2929e8208718655c26082e7331ef49e4</th>\n",
       "      <td>1</td>\n",
       "      <td>A loja não entregou o produto e não da explica...</td>\n",
       "      <td>2017-11-05</td>\n",
       "      <td>2017-09-27 12:32:34</td>\n",
       "      <td>2017-09-27 12:49:41</td>\n",
       "      <td>2017-09-29 17:36:40</td>\n",
       "      <td>2017-11-07 22:31:47</td>\n",
       "      <td>2017-11-03</td>\n",
       "      <td>PA</td>\n",
       "      <td>SP</td>\n",
       "    </tr>\n",
       "    <tr>\n",
       "      <th>34a9dd848ef0ebd4ae4b60d31720497d</th>\n",
       "      <td>1</td>\n",
       "      <td>Fiz a comprar e meu produto foi roubado entrei...</td>\n",
       "      <td>2017-11-05</td>\n",
       "      <td>2017-10-14 11:51:19</td>\n",
       "      <td>2017-10-14 12:13:47</td>\n",
       "      <td>2017-10-19 18:33:41</td>\n",
       "      <td>2017-11-14 19:19:43</td>\n",
       "      <td>2017-11-03</td>\n",
       "      <td>SP</td>\n",
       "      <td>SP</td>\n",
       "    </tr>\n",
       "    <tr>\n",
       "      <th>3735a11cbccd8916dbc9ccf5f671cc2c</th>\n",
       "      <td>2</td>\n",
       "      <td>bom dia....ainda não recebi o carrinho ate a d...</td>\n",
       "      <td>2017-09-04</td>\n",
       "      <td>2017-08-27 07:43:57</td>\n",
       "      <td>2017-08-27 07:55:17</td>\n",
       "      <td>2017-08-30 20:46:48</td>\n",
       "      <td>2017-09-01 18:32:17</td>\n",
       "      <td>2017-09-19</td>\n",
       "      <td>MG</td>\n",
       "      <td>SP</td>\n",
       "    </tr>\n",
       "    <tr>\n",
       "      <th>3c31094fbd7da6168cc190beedf23888</th>\n",
       "      <td>3</td>\n",
       "      <td>Entrega no prazo ,produto correto falta só mai...</td>\n",
       "      <td>2017-11-02</td>\n",
       "      <td>2017-10-16 15:39:28</td>\n",
       "      <td>2017-10-17 03:46:00</td>\n",
       "      <td>2017-10-23 18:50:06</td>\n",
       "      <td>2017-11-01 19:29:47</td>\n",
       "      <td>2017-11-08</td>\n",
       "      <td>RS</td>\n",
       "      <td>SP</td>\n",
       "    </tr>\n",
       "    <tr>\n",
       "      <th>5a65cedc025f607cbdb4c5219f648ae3</th>\n",
       "      <td>1</td>\n",
       "      <td>Esse parceiro e muito lerdo se eu não fisesse ...</td>\n",
       "      <td>2017-10-10</td>\n",
       "      <td>2017-09-30 11:11:25</td>\n",
       "      <td>2017-09-30 11:24:47</td>\n",
       "      <td>2017-10-06 16:55:18</td>\n",
       "      <td>2017-10-09 17:46:04</td>\n",
       "      <td>2017-10-18</td>\n",
       "      <td>RJ</td>\n",
       "      <td>SP</td>\n",
       "    </tr>\n",
       "  </tbody>\n",
       "</table>\n",
       "</div>"
      ],
      "text/plain": [
       "                                  score  \\\n",
       "order_id                                  \n",
       "2929e8208718655c26082e7331ef49e4      1   \n",
       "34a9dd848ef0ebd4ae4b60d31720497d      1   \n",
       "3735a11cbccd8916dbc9ccf5f671cc2c      2   \n",
       "3c31094fbd7da6168cc190beedf23888      3   \n",
       "5a65cedc025f607cbdb4c5219f648ae3      1   \n",
       "\n",
       "                                                                            comment  \\\n",
       "order_id                                                                              \n",
       "2929e8208718655c26082e7331ef49e4  A loja não entregou o produto e não da explica...   \n",
       "34a9dd848ef0ebd4ae4b60d31720497d  Fiz a comprar e meu produto foi roubado entrei...   \n",
       "3735a11cbccd8916dbc9ccf5f671cc2c  bom dia....ainda não recebi o carrinho ate a d...   \n",
       "3c31094fbd7da6168cc190beedf23888  Entrega no prazo ,produto correto falta só mai...   \n",
       "5a65cedc025f607cbdb4c5219f648ae3  Esse parceiro e muito lerdo se eu não fisesse ...   \n",
       "\n",
       "                                 review_date  purchase_timestamp  \\\n",
       "order_id                                                           \n",
       "2929e8208718655c26082e7331ef49e4  2017-11-05 2017-09-27 12:32:34   \n",
       "34a9dd848ef0ebd4ae4b60d31720497d  2017-11-05 2017-10-14 11:51:19   \n",
       "3735a11cbccd8916dbc9ccf5f671cc2c  2017-09-04 2017-08-27 07:43:57   \n",
       "3c31094fbd7da6168cc190beedf23888  2017-11-02 2017-10-16 15:39:28   \n",
       "5a65cedc025f607cbdb4c5219f648ae3  2017-10-10 2017-09-30 11:11:25   \n",
       "\n",
       "                                         approved_at delivered_transportadora  \\\n",
       "order_id                                                                        \n",
       "2929e8208718655c26082e7331ef49e4 2017-09-27 12:49:41      2017-09-29 17:36:40   \n",
       "34a9dd848ef0ebd4ae4b60d31720497d 2017-10-14 12:13:47      2017-10-19 18:33:41   \n",
       "3735a11cbccd8916dbc9ccf5f671cc2c 2017-08-27 07:55:17      2017-08-30 20:46:48   \n",
       "3c31094fbd7da6168cc190beedf23888 2017-10-17 03:46:00      2017-10-23 18:50:06   \n",
       "5a65cedc025f607cbdb4c5219f648ae3 2017-09-30 11:24:47      2017-10-06 16:55:18   \n",
       "\n",
       "                                   custumer_received expected_delivery  \\\n",
       "order_id                                                                 \n",
       "2929e8208718655c26082e7331ef49e4 2017-11-07 22:31:47        2017-11-03   \n",
       "34a9dd848ef0ebd4ae4b60d31720497d 2017-11-14 19:19:43        2017-11-03   \n",
       "3735a11cbccd8916dbc9ccf5f671cc2c 2017-09-01 18:32:17        2017-09-19   \n",
       "3c31094fbd7da6168cc190beedf23888 2017-11-01 19:29:47        2017-11-08   \n",
       "5a65cedc025f607cbdb4c5219f648ae3 2017-10-09 17:46:04        2017-10-18   \n",
       "\n",
       "                                 customer_state seller_state  \n",
       "order_id                                                      \n",
       "2929e8208718655c26082e7331ef49e4             PA           SP  \n",
       "34a9dd848ef0ebd4ae4b60d31720497d             SP           SP  \n",
       "3735a11cbccd8916dbc9ccf5f671cc2c             MG           SP  \n",
       "3c31094fbd7da6168cc190beedf23888             RS           SP  \n",
       "5a65cedc025f607cbdb4c5219f648ae3             RJ           SP  "
      ]
     },
     "execution_count": 4,
     "metadata": {},
     "output_type": "execute_result"
    }
   ],
   "source": [
    "# get the reviews with less than 3 stars\n",
    "unfavorable = data[data.review_score <= 3].copy()\n",
    "# renaming the columns\n",
    "unfavorable.columns = [\"score\", \"comment\", \"review_date\", \"purchase_timestamp\", \"approved_at\", \"delivered_transportadora\", \"custumer_received\", \"expected_delivery\", \"customer_state\", \"seller_state\"]\n",
    "unfavorable.head()"
   ]
  },
  {
   "cell_type": "markdown",
   "metadata": {},
   "source": [
    "Trocando todas as aparições de \"nao\" e similares por negativo"
   ]
  },
  {
   "cell_type": "code",
   "execution_count": 5,
   "metadata": {},
   "outputs": [
    {
     "data": {
      "text/html": [
       "<div>\n",
       "<style scoped>\n",
       "    .dataframe tbody tr th:only-of-type {\n",
       "        vertical-align: middle;\n",
       "    }\n",
       "\n",
       "    .dataframe tbody tr th {\n",
       "        vertical-align: top;\n",
       "    }\n",
       "\n",
       "    .dataframe thead th {\n",
       "        text-align: right;\n",
       "    }\n",
       "</style>\n",
       "<table border=\"1\" class=\"dataframe\">\n",
       "  <thead>\n",
       "    <tr style=\"text-align: right;\">\n",
       "      <th></th>\n",
       "      <th>score</th>\n",
       "      <th>comment</th>\n",
       "      <th>review_date</th>\n",
       "      <th>purchase_timestamp</th>\n",
       "      <th>approved_at</th>\n",
       "      <th>delivered_transportadora</th>\n",
       "      <th>custumer_received</th>\n",
       "      <th>expected_delivery</th>\n",
       "      <th>customer_state</th>\n",
       "      <th>seller_state</th>\n",
       "    </tr>\n",
       "    <tr>\n",
       "      <th>order_id</th>\n",
       "      <th></th>\n",
       "      <th></th>\n",
       "      <th></th>\n",
       "      <th></th>\n",
       "      <th></th>\n",
       "      <th></th>\n",
       "      <th></th>\n",
       "      <th></th>\n",
       "      <th></th>\n",
       "      <th></th>\n",
       "    </tr>\n",
       "  </thead>\n",
       "  <tbody>\n",
       "    <tr>\n",
       "      <th>2929e8208718655c26082e7331ef49e4</th>\n",
       "      <td>1</td>\n",
       "      <td>A loja negativo entregou o produto e negativo ...</td>\n",
       "      <td>2017-11-05</td>\n",
       "      <td>2017-09-27 12:32:34</td>\n",
       "      <td>2017-09-27 12:49:41</td>\n",
       "      <td>2017-09-29 17:36:40</td>\n",
       "      <td>2017-11-07 22:31:47</td>\n",
       "      <td>2017-11-03</td>\n",
       "      <td>PA</td>\n",
       "      <td>SP</td>\n",
       "    </tr>\n",
       "    <tr>\n",
       "      <th>34a9dd848ef0ebd4ae4b60d31720497d</th>\n",
       "      <td>1</td>\n",
       "      <td>Fiz a comprar e meu produto foi roubado entrei...</td>\n",
       "      <td>2017-11-05</td>\n",
       "      <td>2017-10-14 11:51:19</td>\n",
       "      <td>2017-10-14 12:13:47</td>\n",
       "      <td>2017-10-19 18:33:41</td>\n",
       "      <td>2017-11-14 19:19:43</td>\n",
       "      <td>2017-11-03</td>\n",
       "      <td>SP</td>\n",
       "      <td>SP</td>\n",
       "    </tr>\n",
       "    <tr>\n",
       "      <th>3735a11cbccd8916dbc9ccf5f671cc2c</th>\n",
       "      <td>2</td>\n",
       "      <td>bom dia....ainda negativo recebi o carrinho at...</td>\n",
       "      <td>2017-09-04</td>\n",
       "      <td>2017-08-27 07:43:57</td>\n",
       "      <td>2017-08-27 07:55:17</td>\n",
       "      <td>2017-08-30 20:46:48</td>\n",
       "      <td>2017-09-01 18:32:17</td>\n",
       "      <td>2017-09-19</td>\n",
       "      <td>MG</td>\n",
       "      <td>SP</td>\n",
       "    </tr>\n",
       "    <tr>\n",
       "      <th>3c31094fbd7da6168cc190beedf23888</th>\n",
       "      <td>3</td>\n",
       "      <td>Entrega no prazo ,produto correto falta só mai...</td>\n",
       "      <td>2017-11-02</td>\n",
       "      <td>2017-10-16 15:39:28</td>\n",
       "      <td>2017-10-17 03:46:00</td>\n",
       "      <td>2017-10-23 18:50:06</td>\n",
       "      <td>2017-11-01 19:29:47</td>\n",
       "      <td>2017-11-08</td>\n",
       "      <td>RS</td>\n",
       "      <td>SP</td>\n",
       "    </tr>\n",
       "    <tr>\n",
       "      <th>5a65cedc025f607cbdb4c5219f648ae3</th>\n",
       "      <td>1</td>\n",
       "      <td>Esse parceiro e muito lerdo se eu negativo fis...</td>\n",
       "      <td>2017-10-10</td>\n",
       "      <td>2017-09-30 11:11:25</td>\n",
       "      <td>2017-09-30 11:24:47</td>\n",
       "      <td>2017-10-06 16:55:18</td>\n",
       "      <td>2017-10-09 17:46:04</td>\n",
       "      <td>2017-10-18</td>\n",
       "      <td>RJ</td>\n",
       "      <td>SP</td>\n",
       "    </tr>\n",
       "  </tbody>\n",
       "</table>\n",
       "</div>"
      ],
      "text/plain": [
       "                                  score  \\\n",
       "order_id                                  \n",
       "2929e8208718655c26082e7331ef49e4      1   \n",
       "34a9dd848ef0ebd4ae4b60d31720497d      1   \n",
       "3735a11cbccd8916dbc9ccf5f671cc2c      2   \n",
       "3c31094fbd7da6168cc190beedf23888      3   \n",
       "5a65cedc025f607cbdb4c5219f648ae3      1   \n",
       "\n",
       "                                                                            comment  \\\n",
       "order_id                                                                              \n",
       "2929e8208718655c26082e7331ef49e4  A loja negativo entregou o produto e negativo ...   \n",
       "34a9dd848ef0ebd4ae4b60d31720497d  Fiz a comprar e meu produto foi roubado entrei...   \n",
       "3735a11cbccd8916dbc9ccf5f671cc2c  bom dia....ainda negativo recebi o carrinho at...   \n",
       "3c31094fbd7da6168cc190beedf23888  Entrega no prazo ,produto correto falta só mai...   \n",
       "5a65cedc025f607cbdb4c5219f648ae3  Esse parceiro e muito lerdo se eu negativo fis...   \n",
       "\n",
       "                                 review_date  purchase_timestamp  \\\n",
       "order_id                                                           \n",
       "2929e8208718655c26082e7331ef49e4  2017-11-05 2017-09-27 12:32:34   \n",
       "34a9dd848ef0ebd4ae4b60d31720497d  2017-11-05 2017-10-14 11:51:19   \n",
       "3735a11cbccd8916dbc9ccf5f671cc2c  2017-09-04 2017-08-27 07:43:57   \n",
       "3c31094fbd7da6168cc190beedf23888  2017-11-02 2017-10-16 15:39:28   \n",
       "5a65cedc025f607cbdb4c5219f648ae3  2017-10-10 2017-09-30 11:11:25   \n",
       "\n",
       "                                         approved_at delivered_transportadora  \\\n",
       "order_id                                                                        \n",
       "2929e8208718655c26082e7331ef49e4 2017-09-27 12:49:41      2017-09-29 17:36:40   \n",
       "34a9dd848ef0ebd4ae4b60d31720497d 2017-10-14 12:13:47      2017-10-19 18:33:41   \n",
       "3735a11cbccd8916dbc9ccf5f671cc2c 2017-08-27 07:55:17      2017-08-30 20:46:48   \n",
       "3c31094fbd7da6168cc190beedf23888 2017-10-17 03:46:00      2017-10-23 18:50:06   \n",
       "5a65cedc025f607cbdb4c5219f648ae3 2017-09-30 11:24:47      2017-10-06 16:55:18   \n",
       "\n",
       "                                   custumer_received expected_delivery  \\\n",
       "order_id                                                                 \n",
       "2929e8208718655c26082e7331ef49e4 2017-11-07 22:31:47        2017-11-03   \n",
       "34a9dd848ef0ebd4ae4b60d31720497d 2017-11-14 19:19:43        2017-11-03   \n",
       "3735a11cbccd8916dbc9ccf5f671cc2c 2017-09-01 18:32:17        2017-09-19   \n",
       "3c31094fbd7da6168cc190beedf23888 2017-11-01 19:29:47        2017-11-08   \n",
       "5a65cedc025f607cbdb4c5219f648ae3 2017-10-09 17:46:04        2017-10-18   \n",
       "\n",
       "                                 customer_state seller_state  \n",
       "order_id                                                      \n",
       "2929e8208718655c26082e7331ef49e4             PA           SP  \n",
       "34a9dd848ef0ebd4ae4b60d31720497d             SP           SP  \n",
       "3735a11cbccd8916dbc9ccf5f671cc2c             MG           SP  \n",
       "3c31094fbd7da6168cc190beedf23888             RS           SP  \n",
       "5a65cedc025f607cbdb4c5219f648ae3             RJ           SP  "
      ]
     },
     "execution_count": 5,
     "metadata": {},
     "output_type": "execute_result"
    }
   ],
   "source": [
    "pattern = re.compile(\"([nN][ãÃaA][oO]|[ñÑ]| [nN] )\")\n",
    "def re_negation(txt):\n",
    "    return pattern.sub(\"negativo\", txt)\n",
    "\n",
    "unfavorable.comment = unfavorable.comment.apply(re_negation)\n",
    "unfavorable.head()"
   ]
  },
  {
   "cell_type": "markdown",
   "metadata": {},
   "source": [
    "Calculando os n-gramas das avaliações negativas"
   ]
  },
  {
   "cell_type": "code",
   "execution_count": 6,
   "metadata": {},
   "outputs": [],
   "source": [
    "sw = stopwords.words('portuguese')\n",
    "vec = TfidfVectorizer(max_features=500, stop_words=sw, ngram_range=(2, 4))\n",
    "X = vec.fit_transform(unfavorable.comment)\n",
    "\n",
    "def parallelize(doc, X, vec):\n",
    "    wordlist = []\n",
    "    n_ngram = 5\n",
    "\n",
    "    for word in vec.vocabulary_.keys():\n",
    "        word_idx = vec.vocabulary_[word]\n",
    "        if X[doc, word_idx] > 0:\n",
    "            wordlist.append( (X[doc,word_idx], word) )\n",
    "    wordlist = sorted(wordlist, reverse=True)\n",
    "    return wordlist[0:n_ngram]\n",
    "\n",
    "with Pool(cpu_count()) as p:\n",
    "    ngram = p.map(partial(parallelize, X=X, vec=vec), list(range(X.shape[0])))"
   ]
  },
  {
   "cell_type": "markdown",
   "metadata": {},
   "source": [
    "Ordenando os n-gramas por frequência decrescente e selecionando os 20 primeiros"
   ]
  },
  {
   "cell_type": "code",
   "execution_count": 7,
   "metadata": {},
   "outputs": [],
   "source": [
    "k = {}\n",
    "for trigram in ngram:\n",
    "    for j in trigram:\n",
    "        if j[1] in k:\n",
    "            k[j[1]] += 1\n",
    "        else:\n",
    "            k[j[1]] = 1\n",
    "\n",
    "# sort the trigrams by frequency\n",
    "k = sorted(k.items(), key=lambda x: x[1], reverse=True)[0:20]"
   ]
  },
  {
   "cell_type": "markdown",
   "metadata": {},
   "source": [
    "Mostrando os Top 20 n-gramas mais frequentes para escolhermos qual área os clientes estão mais insatisfeitos com a empresa"
   ]
  },
  {
   "cell_type": "code",
   "execution_count": 8,
   "metadata": {},
   "outputs": [
    {
     "data": {
      "image/png": "[encoded data removed]",
      "text/plain": [
       "<Figure size 1080x576 with 1 Axes>"
      ]
     },
     "metadata": {},
     "output_type": "display_data"
    }
   ],
   "source": [
    "# horizontal bar chart of the top 20 Trigrams\n",
    "sns.set_theme(style=\"whitegrid\")\n",
    "f, ax = plt.subplots(figsize=(15, 8))\n",
    "sns.barplot(x=[i[1] for i in k], y=[i[0] for i in k])\n",
    "ax.set(ylabel=\"N-gramas\",\n",
    "       xlabel=\"Frequencia\", title=\"Chart1: Top 20 N-gramas\")\n",
    "sns.despine(left=True, bottom=True)"
   ]
  },
  {
   "cell_type": "markdown",
   "metadata": {},
   "source": [
    "Como vimos no Chart 1 boa parte dos n-gramas estão falando sobre o atraso na entrega, com isso iremos identificar quais comentarios estao relacionados ao atraso de entrega e aproveitar para ver qual é a porcentagem de avaliações que estão relacionadas ao atraso de entrega"
   ]
  },
  {
   "cell_type": "code",
   "execution_count": 13,
   "metadata": {},
   "outputs": [
    {
     "data": {
      "text/plain": [
       "(16.14, 20.74)"
      ]
     },
     "execution_count": 13,
     "metadata": {},
     "output_type": "execute_result"
    }
   ],
   "source": [
    "def check_complaint(txt):\n",
    "    # list of most common ngrams that complain about delivery time\n",
    "    complaints = [\"negativo recebi\", \"negativo recebi produto\", \"negativo chegou\", \"negativo entregue\", \"ainda negativo recebi\", \"prazo entrega\", \"ainda negativo recebi produto\", \"produto negativo entregue\"]\n",
    "    for complain in complaints:\n",
    "        if complain in txt.lower():\n",
    "            return True\n",
    "    return False\n",
    "\n",
    "def has_delayed(row):\n",
    "    expected_delivery = row.expected_delivery\n",
    "    custumer_received = row.custumer_received\n",
    "    return (custumer_received - expected_delivery).days > 0\n",
    "\n",
    "# create a new collumn if the a complaint is find in a comment\n",
    "unfavorable[\"complaints_about_delivery\"] = unfavorable[\"comment\"].apply(check_complaint)\n",
    "unfavorable[\"has_delayed\"] = unfavorable.apply(has_delayed, axis=1)\n",
    "\n",
    "# % of complaints that are about delivery time                                                    % of deliveries that are delayed\n",
    "round(unfavorable[\"complaints_about_delivery\"].value_counts()[1]/unfavorable.shape[0] * 100, 2), round(unfavorable[\"has_delayed\"].value_counts()[1]/unfavorable.shape[0] * 100, 2)"
   ]
  },
  {
   "cell_type": "markdown",
   "metadata": {},
   "source": [
    "Como podemos ver pelo menos 16.14% dos reviews negativos são sobre atrasos da entrega e 20.74% das entregas atrasaram, com isso sabemos que se a empresa melhorar nesse departamento, conseguiremos reduzir a quantidade de reviews negativos dos clientes. \n",
    "\n",
    "Para isso iremos testar duas hipoteses, sendo elas:\n",
    "\n",
    "* A porcentagem de reclamacoes que são sobre atraso de aumenta conforme vai se aproximando de alguns meses especificos, pois a transportadora não consegue suprir toda a demanda do mercado, sendo que esses meses são os mesmos entre os anos.\n",
    "* A transportadora atrasa mais frequentemente nas entregas entre estados."
   ]
  },
  {
   "cell_type": "markdown",
   "metadata": {},
   "source": [
    "# 3. Testando as hipóteses"
   ]
  },
  {
   "cell_type": "markdown",
   "metadata": {},
   "source": [
    "### 3.1 A porcentagem de reclamacoes que são sobre atraso de aumenta conforme vai se aproximando de alguns meses especificos, pois a transportadora não consegue suprir toda a demanda do mercado, sendo que esses meses são os mesmos entre os anos."
   ]
  },
  {
   "cell_type": "markdown",
   "metadata": {},
   "source": [
    "Agrupando as avaliações por meses e plotando quantas reclamações foram feitas naquele mês"
   ]
  },
  {
   "cell_type": "code",
   "execution_count": 15,
   "metadata": {},
   "outputs": [
    {
     "data": {
      "image/png": "[encoded data removed]",
      "text/plain": [
       "<Figure size 1080x576 with 1 Axes>"
      ]
     },
     "metadata": {},
     "output_type": "display_data"
    }
   ],
   "source": [
    "# % of complaints agrouped by month and year and separated if it is a complaint about delivery time\n",
    "data = unfavorable.groupby([unfavorable.review_date.dt.month, unfavorable.review_date.dt.year])[\"has_delayed\"].value_counts(normalize=True).unstack().fillna(0)\n",
    "# creating a new index that is easier to read\n",
    "months = {1: \"Jan\", 2: \"Fev\", 3: \"Mar\", 4: \"Abr\", 5: \"Mai\", 6: \"Jun\", 7: \"Jul\", 8: \"Ago\", 9: \"Set\", 10: \"Out\", 11: \"Nov\", 12: \"Dez\"}\n",
    "new_index = []\n",
    "for i in list(data.index):\n",
    "    new_index.append(str(i[1]) + \"-\" + months[i[0]])\n",
    "data.index = new_index\n",
    "data.columns = [\"not_about_delivery\", \"about_delivery\"]\n",
    "\n",
    "# plot the complaints that are about delivery time\n",
    "data[\"about_delivery\"].plot(kind=\"bar\", stacked=True, figsize=(15, 8))\n",
    "# add a vertical line to the x axis separating the months\n",
    "lines = [1.5, 3.5, 5.5, 7.5, 9.5, 11.5, 13.5, 15.5, 16.5, 18.5, 20.5]\n",
    "for i in lines:\n",
    "    plt.axvline(i, color=\"black\", linestyle=\"--\")\n",
    "plt.title('Chart2: Porcentagem de entregas que atrasaram')\n",
    "plt.xlabel('Meses')\n",
    "plt.ylabel('Porcentagem')\n",
    "plt.show()"
   ]
  },
  {
   "cell_type": "markdown",
   "metadata": {},
   "source": [
    "Como podemos no ver chart2 nos meses de março(2018), abril(2018) e dezembro(2017) a porcentagem de reclamações ultrapassou 30%, sendo bem diferente dos demais meses analisados no periodo do dataset. Porem esses valores altissimos não sao vistos no outro ano analisado, com isso não conseguimos confirmar a hipótese, pois os meses se comportam de forma muito diferente entre os anos."
   ]
  },
  {
   "cell_type": "markdown",
   "metadata": {},
   "source": [
    "### 3.2 A transportadora atrasa mais frequentemente nas entregas entre estados."
   ]
  },
  {
   "cell_type": "markdown",
   "metadata": {},
   "source": [
    "Criando coluna que mostra se o cliente e o vendedor são do mesmo estado ou não"
   ]
  },
  {
   "cell_type": "code",
   "execution_count": 50,
   "metadata": {},
   "outputs": [
    {
     "data": {
      "text/html": [
       "<div>\n",
       "<style scoped>\n",
       "    .dataframe tbody tr th:only-of-type {\n",
       "        vertical-align: middle;\n",
       "    }\n",
       "\n",
       "    .dataframe tbody tr th {\n",
       "        vertical-align: top;\n",
       "    }\n",
       "\n",
       "    .dataframe thead th {\n",
       "        text-align: right;\n",
       "    }\n",
       "</style>\n",
       "<table border=\"1\" class=\"dataframe\">\n",
       "  <thead>\n",
       "    <tr style=\"text-align: right;\">\n",
       "      <th></th>\n",
       "      <th>has_delayed</th>\n",
       "      <th>seller_customer_state</th>\n",
       "    </tr>\n",
       "    <tr>\n",
       "      <th>order_id</th>\n",
       "      <th></th>\n",
       "      <th></th>\n",
       "    </tr>\n",
       "  </thead>\n",
       "  <tbody>\n",
       "    <tr>\n",
       "      <th>2929e8208718655c26082e7331ef49e4</th>\n",
       "      <td>True</td>\n",
       "      <td>False</td>\n",
       "    </tr>\n",
       "    <tr>\n",
       "      <th>34a9dd848ef0ebd4ae4b60d31720497d</th>\n",
       "      <td>True</td>\n",
       "      <td>True</td>\n",
       "    </tr>\n",
       "    <tr>\n",
       "      <th>3735a11cbccd8916dbc9ccf5f671cc2c</th>\n",
       "      <td>False</td>\n",
       "      <td>False</td>\n",
       "    </tr>\n",
       "    <tr>\n",
       "      <th>3c31094fbd7da6168cc190beedf23888</th>\n",
       "      <td>False</td>\n",
       "      <td>False</td>\n",
       "    </tr>\n",
       "    <tr>\n",
       "      <th>5a65cedc025f607cbdb4c5219f648ae3</th>\n",
       "      <td>False</td>\n",
       "      <td>False</td>\n",
       "    </tr>\n",
       "  </tbody>\n",
       "</table>\n",
       "</div>"
      ],
      "text/plain": [
       "                                  has_delayed  seller_customer_state\n",
       "order_id                                                            \n",
       "2929e8208718655c26082e7331ef49e4         True                  False\n",
       "34a9dd848ef0ebd4ae4b60d31720497d         True                   True\n",
       "3735a11cbccd8916dbc9ccf5f671cc2c        False                  False\n",
       "3c31094fbd7da6168cc190beedf23888        False                  False\n",
       "5a65cedc025f607cbdb4c5219f648ae3        False                  False"
      ]
     },
     "execution_count": 50,
     "metadata": {},
     "output_type": "execute_result"
    }
   ],
   "source": [
    "def seller_customer_state(row):\n",
    "    return row.seller_state == row.customer_state\n",
    "\n",
    "# create a new df with only the complains about delivery\n",
    "state = unfavorable[[\"has_delayed\", \"seller_state\", \"customer_state\"]].copy()\n",
    "state[\"seller_customer_state\"] = state.apply(seller_customer_state, axis=1)\n",
    "state.drop([\"seller_state\", \"customer_state\"], axis=1, inplace=True)\t\n",
    "state.head()"
   ]
  },
  {
   "cell_type": "markdown",
   "metadata": {},
   "source": [
    "Agrupando as entregas que são do mesmo estado ou não e pegando a porcentagem das entregas que atrasaram"
   ]
  },
  {
   "cell_type": "code",
   "execution_count": 65,
   "metadata": {},
   "outputs": [
    {
     "name": "stdout",
     "output_type": "stream",
     "text": [
      "mesmo estado e atrasou: 14.03%\n",
      "estados diferentes e atradou: 23.78%\n"
     ]
    }
   ],
   "source": [
    "x = state.groupby(\"seller_customer_state\")[\"has_delayed\"].value_counts(normalize=True)\n",
    "print(f\"\"\"mesmo estado e atrasou: {round(x[True][True]*100, 2)}%\n",
    "estados diferentes e atradou: {round(x[False][True] * 100, 2)}%\"\"\")"
   ]
  },
  {
   "cell_type": "markdown",
   "metadata": {},
   "source": [
    "Plotando a porcentagem de entregas que atrasaram separadas por estado"
   ]
  },
  {
   "cell_type": "code",
   "execution_count": 67,
   "metadata": {},
   "outputs": [
    {
     "data": {
      "image/png": "[encoded data removed]",
      "text/plain": [
       "<Figure size 1080x576 with 1 Axes>"
      ]
     },
     "metadata": {},
     "output_type": "display_data"
    }
   ],
   "source": [
    "# plot the has_delayed stacked agrouped by seller_customer_state\n",
    "x.unstack().plot(kind=\"bar\", stacked=True, figsize=(15, 8))\n",
    "plt.title('Chart3: Porcentagem de entregas que atrasaram por estado do comprador e vendedor')\n",
    "plt.xlabel('Estado do comprador e vendedor')\n",
    "plt.ylabel('Porcentagem')\n",
    "plt.xticks([0, 1], [\"Estados diferentes\", \"Mesmo estado\"], rotation=0)\n",
    "plt.legend([\"Não atrasou\", \"Atrasou\"])\n",
    "plt.show()"
   ]
  },
  {
   "cell_type": "markdown",
   "metadata": {},
   "source": [
    "Como podemos ver no Chart 3, as entregas entre estados atrasam 23.78% das vezes enquanto as que se mantem apenas em um estado atrasaram apenas 14.03% com isso a hipótese pode ser confirmada. Isso pode se dar por conta que a transportadora não utiliza os melhores meios de transporte para atender os clientes, para melhorar isso seria possivel aumentar a quantidade de centros de distribuição diminuindo a distancia até o cliente."
   ]
  }
 ],
 "metadata": {
  "interpreter": {
   "hash": "b89b5cfaba6639976dc87ff2fec6d58faec662063367e2c229c520fe71072417"
  },
  "kernelspec": {
   "display_name": "Python 3.10.2 64-bit",
   "language": "python",
   "name": "python3"
  },
  "language_info": {
   "codemirror_mode": {
    "name": "ipython",
    "version": 3
   },
   "file_extension": ".py",
   "mimetype": "text/x-python",
   "name": "python",
   "nbconvert_exporter": "python",
   "pygments_lexer": "ipython3",
   "version": "3.9.2"
  },
  "orig_nbformat": 4
 },
 "nbformat": 4,
 "nbformat_minor": 2
}
