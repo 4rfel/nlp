{
 "cells": [
  {
   "cell_type": "code",
   "execution_count": 5,
   "metadata": {},
   "outputs": [],
   "source": [
    "import urllib\n",
    "url = \"https://www.gutenberg.org/cache/epub/3333/pg3333.txt\" # Os Lusíadas (Camões)\n",
    "texto = urllib.request.urlopen(url).read()\n",
    "print(texto[1000:2000])\n"
   ]
  },
  {
   "cell_type": "code",
   "execution_count": null,
   "metadata": {},
   "outputs": [
    {
     "name": "stdout",
     "output_type": "stream",
     "text": [
      "as\n",
      "Daqueles Reis, que foram dilatando\n",
      "A Fé, o Império, e as terras viciosas\n",
      "De África e de Ásia andaram devastando;\n",
      "E aqueles, que por obras valerosas\n",
      "Se vão da lei da morte libertando;\n",
      "Cantando espalharei por toda parte,\n",
      "Se a tanto me ajudar o engenho e arte.\n",
      "\n",
      "3\n",
      "Cessem do sábio Grego e do Troiano\n",
      "As navegações grandes que fizeram;\n",
      "Cale-se de Alexandro e de Trajano\n",
      "A fama das vitórias que tiveram;\n",
      "Que eu canto o peito ilustre Lusitano,\n",
      "A quem Neptuno e Marte obedeceram:\n",
      "Cesse tudo o que a Musa antígua canta,\n",
      "Que outro valor mais alto se alevanta.\n",
      "\n",
      "4\n",
      "E vós, Tágides minhas, pois criado\n",
      "Tendes em mim um novo engenho ardente,\n",
      "Se sempre em verso humilde celebrado\n",
      "Foi de mim vosso rio alegremente,\n",
      "Dai-me agora um som alto e sublimado,\n",
      "Um estilo grandíloquo e corrente,\n",
      "Porque de vossas águas, Febo ordene\n",
      "Que não tenham inveja às de Hipoerene.\n",
      "\n",
      "5\n",
      "Dai-me uma fúria grande e sonorosa,\n",
      "E não de agreste avena ou frauta ruda,\n",
      "Mas de tuba canora e belicosa,\n",
      "Que o peit\n"
     ]
    }
   ],
   "source": [
    "import urllib\n",
    "url = \"https://www.gutenberg.org/cache/epub/3333/pg3333.txt\" # Os Lusíadas (Camões)\n",
    "texto = urllib.request.urlopen(url).read().decode()\n",
    "print(texto[1000:2000])"
   ]
  },
  {
   "cell_type": "code",
   "execution_count": null,
   "metadata": {},
   "outputs": [
    {
     "name": "stdout",
     "output_type": "stream",
     "text": [
      "<re.Match object; span=(0, 1), match='5'>\n",
      "None\n"
     ]
    }
   ],
   "source": [
    "import re\n",
    "a = re.fullmatch(\"\\w+\", '5')\n",
    "print(a)\n",
    "a = re.fullmatch(\"\\w+\", 'dai-me')\n",
    "print(a)"
   ]
  },
  {
   "cell_type": "code",
   "execution_count": 2,
   "metadata": {},
   "outputs": [
    {
     "ename": "NameError",
     "evalue": "name 'texto' is not defined",
     "output_type": "error",
     "traceback": [
      "\u001b[1;31m---------------------------------------------------------------------------\u001b[0m",
      "\u001b[1;31mNameError\u001b[0m                                 Traceback (most recent call last)",
      "\u001b[1;32m<ipython-input-2-3bd571ff5c3c>\u001b[0m in \u001b[0;36m<module>\u001b[1;34m\u001b[0m\n\u001b[0;32m      1\u001b[0m \u001b[1;32mimport\u001b[0m \u001b[0mre\u001b[0m\u001b[1;33m\u001b[0m\u001b[1;33m\u001b[0m\u001b[0m\n\u001b[1;32m----> 2\u001b[1;33m \u001b[0ms\u001b[0m \u001b[1;33m=\u001b[0m \u001b[0mre\u001b[0m\u001b[1;33m.\u001b[0m\u001b[0msplit\u001b[0m\u001b[1;33m(\u001b[0m\u001b[1;34m\"\\s+\"\u001b[0m\u001b[1;33m,\u001b[0m \u001b[0mtexto\u001b[0m\u001b[1;33m)\u001b[0m\u001b[1;33m\u001b[0m\u001b[1;33m\u001b[0m\u001b[0m\n\u001b[0m\u001b[0;32m      3\u001b[0m \u001b[0mprint\u001b[0m\u001b[1;33m(\u001b[0m\u001b[0ms\u001b[0m\u001b[1;33m)\u001b[0m\u001b[1;33m\u001b[0m\u001b[1;33m\u001b[0m\u001b[0m\n",
      "\u001b[1;31mNameError\u001b[0m: name 'texto' is not defined"
     ]
    }
   ],
   "source": [
    "import re\n",
    "s = re.split(\"\\s+\", texto)\n",
    "print(s)"
   ]
  },
  {
   "cell_type": "code",
   "execution_count": 85,
   "metadata": {},
   "outputs": [
    {
     "name": "stdout",
     "output_type": "stream",
     "text": [
      "['Postule-se', 'têmpera', 'doze', 'átomo', 'diga-me', 'o', 'que', 'há', 'Doze']\n"
     ]
    }
   ],
   "source": [
    "import re\n",
    "texto = \"Postule-se, têmpera doze átomo, diga-me o que há. 95? Doze!\"\n",
    "s = re.findall(r\"[^\\s\\d,.!?:]+\", texto)\n",
    "\n",
    "\n",
    "print(s)"
   ]
  },
  {
   "cell_type": "code",
   "execution_count": null,
   "metadata": {},
   "outputs": [],
   "source": []
  },
  {
   "cell_type": "code",
   "execution_count": 41,
   "metadata": {},
   "outputs": [],
   "source": [
    "def contar1(s):\n",
    "    ja_contei = []\n",
    "    contagem = []\n",
    "    for w in s:\n",
    "        idx = ja_contei.index(w)\n",
    "        if idx >= 0:\n",
    "            contagem[idx] += 1\n",
    "        else:\n",
    "            ja_contei.append(w)\n",
    "            contagem.append(1)\n",
    "    return ja_contei, contagem\n",
    "\n",
    "def contar2(s):\n",
    "    contagem = dict()\n",
    "    for w in s:\n",
    "        if w in contagem.keys():\n",
    "            contagem[w] += 1\n",
    "        else:\n",
    "            contagem[w] = 1\n",
    "    return contagem\n",
    "\n",
    "\n"
   ]
  },
  {
   "cell_type": "code",
   "execution_count": 89,
   "metadata": {},
   "outputs": [],
   "source": [
    "url = \"https://www.gutenberg.org/cache/epub/3333/pg3333.txt\" # Os Lusíadas (Camões)\n",
    "texto = urllib.request.urlopen(url).read().decode()"
   ]
  },
  {
   "cell_type": "code",
   "execution_count": 90,
   "metadata": {},
   "outputs": [],
   "source": [
    "s = re.findall(\"[^\\s\\d,.;?!]+\", texto)\n",
    "s = [w.lower() for w in s]"
   ]
  },
  {
   "cell_type": "code",
   "execution_count": 91,
   "metadata": {},
   "outputs": [
    {
     "name": "stdout",
     "output_type": "stream",
     "text": [
      "58405\n",
      "10394\n",
      "['de', 'camões', 'this', 'ebook', 'is', 'for', 'the', 'use', 'of', 'anyone', 'anywhere', 'at', 'no', 'cost', 'and', 'with', 'almost', 'no', 'restrictions', 'whatsoever']\n"
     ]
    }
   ],
   "source": [
    "print(len(s))\n",
    "print(len(set(s)))\n",
    "print (s[10:30])"
   ]
  },
  {
   "cell_type": "code",
   "execution_count": 92,
   "metadata": {},
   "outputs": [],
   "source": [
    "contagem = contar2(s)"
   ]
  },
  {
   "cell_type": "code",
   "execution_count": 93,
   "metadata": {},
   "outputs": [
    {
     "name": "stdout",
     "output_type": "stream",
     "text": [
      "[(2720, 'que'), (2164, 'e'), (1869, 'o'), (1838, 'a'), (1421, 'de'), (825, 'se'), (718, 'os'), (621, 'do'), (562, 'com'), (556, 'não'), (534, 'por'), (515, 'em'), (510, 'as'), (484, 'da'), (324, 'lhe'), (319, 'no'), (290, 'já'), (278, 'mais'), (250, 'na'), (242, 'mas')]\n"
     ]
    }
   ],
   "source": [
    "tf = []\n",
    "for i in contagem.keys():\n",
    "    tf.append( (contagem[i],i) )\n",
    "tf = sorted(tf, reverse=True)\n",
    "print(tf[0:20])"
   ]
  },
  {
   "cell_type": "code",
   "execution_count": 94,
   "metadata": {},
   "outputs": [],
   "source": [
    "url_sw = \"https://gist.github.com/alopes/5358189#file-stopwords-txt\"\n",
    "stopwords = urllib.request.urlopen(url_sw).read().decode().split()\n",
    "stopwords = set(stopwords)"
   ]
  },
  {
   "cell_type": "code",
   "execution_count": 95,
   "metadata": {},
   "outputs": [
    {
     "name": "stdout",
     "output_type": "stream",
     "text": [
      "[(825, 'se'), (718, 'os'), (510, 'as'), (484, 'da'), (324, 'lhe'), (290, 'já'), (226, 'gente'), (226, 'dos'), (225, 'quem'), (218, 'terra'), (208, 'tão'), (201, 'rei'), (188, 'mar'), (176, 'onde'), (155, 'seu'), (141, 'nos'), (137, 'grande'), (132, 'tanto'), (121, 'só'), (121, 'ou')]\n"
     ]
    }
   ],
   "source": [
    "s = re.findall(\"[^\\s\\d,.;?!]+\", texto)\n",
    "#s = re.findall(\"[^\\W\\d]+\", texto)\n",
    "s = [w.lower() for w in s if w.lower() not in stopwords]\n",
    "contagem = contar2(s)\n",
    "tf = []\n",
    "for i in contagem.keys():\n",
    "    tf.append( (contagem[i],i) )\n",
    "tf = sorted(tf, reverse=True)\n",
    "print(tf[0:20])"
   ]
  },
  {
   "cell_type": "code",
   "execution_count": null,
   "metadata": {},
   "outputs": [],
   "source": []
  },
  {
   "cell_type": "code",
   "execution_count": null,
   "metadata": {},
   "outputs": [],
   "source": []
  }
 ],
 "metadata": {
  "interpreter": {
   "hash": "b3ba2566441a7c06988d0923437866b63cedc61552a5af99d1f4fb67d367b25f"
  },
  "kernelspec": {
   "display_name": "Python 3.9.7 64-bit ('base': conda)",
   "language": "python",
   "name": "python3"
  },
  "language_info": {
   "codemirror_mode": {
    "name": "ipython",
    "version": 3
   },
   "file_extension": ".py",
   "mimetype": "text/x-python",
   "name": "python",
   "nbconvert_exporter": "python",
   "pygments_lexer": "ipython3",
   "version": "3.9.2"
  },
  "orig_nbformat": 4
 },
 "nbformat": 4,
 "nbformat_minor": 2
}
