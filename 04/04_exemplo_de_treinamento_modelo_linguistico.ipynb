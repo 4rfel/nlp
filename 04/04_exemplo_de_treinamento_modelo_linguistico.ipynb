{
 "cells": [
  {
   "cell_type": "markdown",
   "metadata": {},
   "source": [
    "# Exemplo de treinamento de modelo linguístico"
   ]
  },
  {
   "cell_type": "code",
   "execution_count": 1,
   "metadata": {},
   "outputs": [
    {
     "name": "stderr",
     "output_type": "stream",
     "text": [
      "C:\\Users\\rafae\\AppData\\Local\\Programs\\Python\\Python39\\lib\\site-packages\\numpy\\_distributor_init.py:30: UserWarning: loaded more than 1 DLL from .libs:\n",
      "C:\\Users\\rafae\\AppData\\Local\\Programs\\Python\\Python39\\lib\\site-packages\\numpy\\.libs\\libopenblas.GK7GX5KEQ4F6UYO3P26ULGBQYHGQO7J4.gfortran-win_amd64.dll\n",
      "C:\\Users\\rafae\\AppData\\Local\\Programs\\Python\\Python39\\lib\\site-packages\\numpy\\.libs\\libopenblas.XWYDX2IKJW2NMTWSFYNGFUWKQU3LYTCZ.gfortran-win_amd64.dll\n",
      "  warnings.warn(\"loaded more than 1 DLL from .libs:\"\n"
     ]
    },
    {
     "data": {
      "text/html": [
       "<div>\n",
       "<style scoped>\n",
       "    .dataframe tbody tr th:only-of-type {\n",
       "        vertical-align: middle;\n",
       "    }\n",
       "\n",
       "    .dataframe tbody tr th {\n",
       "        vertical-align: top;\n",
       "    }\n",
       "\n",
       "    .dataframe thead th {\n",
       "        text-align: right;\n",
       "    }\n",
       "</style>\n",
       "<table border=\"1\" class=\"dataframe\">\n",
       "  <thead>\n",
       "    <tr style=\"text-align: right;\">\n",
       "      <th></th>\n",
       "      <th>review</th>\n",
       "      <th>sentiment</th>\n",
       "    </tr>\n",
       "  </thead>\n",
       "  <tbody>\n",
       "    <tr>\n",
       "      <th>0</th>\n",
       "      <td>One of the other reviewers has mentioned that ...</td>\n",
       "      <td>positive</td>\n",
       "    </tr>\n",
       "    <tr>\n",
       "      <th>1</th>\n",
       "      <td>A wonderful little production. &lt;br /&gt;&lt;br /&gt;The...</td>\n",
       "      <td>positive</td>\n",
       "    </tr>\n",
       "    <tr>\n",
       "      <th>2</th>\n",
       "      <td>I thought this was a wonderful way to spend ti...</td>\n",
       "      <td>positive</td>\n",
       "    </tr>\n",
       "    <tr>\n",
       "      <th>3</th>\n",
       "      <td>Basically there's a family where a little boy ...</td>\n",
       "      <td>negative</td>\n",
       "    </tr>\n",
       "    <tr>\n",
       "      <th>4</th>\n",
       "      <td>Petter Mattei's \"Love in the Time of Money\" is...</td>\n",
       "      <td>positive</td>\n",
       "    </tr>\n",
       "  </tbody>\n",
       "</table>\n",
       "</div>"
      ],
      "text/plain": [
       "                                              review sentiment\n",
       "0  One of the other reviewers has mentioned that ...  positive\n",
       "1  A wonderful little production. <br /><br />The...  positive\n",
       "2  I thought this was a wonderful way to spend ti...  positive\n",
       "3  Basically there's a family where a little boy ...  negative\n",
       "4  Petter Mattei's \"Love in the Time of Money\" is...  positive"
      ]
     },
     "execution_count": 1,
     "metadata": {},
     "output_type": "execute_result"
    }
   ],
   "source": [
    "import pandas as pd\n",
    "\n",
    "df = pd.read_csv('./../datasets/IMDB Dataset.csv')\n",
    "df.head()"
   ]
  },
  {
   "cell_type": "code",
   "execution_count": 2,
   "metadata": {},
   "outputs": [],
   "source": [
    "colecao = [x.split() for x in df[\"review\"].values]"
   ]
  },
  {
   "cell_type": "code",
   "execution_count": 3,
   "metadata": {},
   "outputs": [],
   "source": [
    "# colecao[2]"
   ]
  },
  {
   "cell_type": "code",
   "execution_count": 4,
   "metadata": {},
   "outputs": [],
   "source": [
    "# Passo 1: ter uma coleção de documentos\n",
    "# colecao = [\"uma frase da minha coleção\".split(), \"outra frase da minha coleção\".split(), \"uma frase nada a ver com as outras\".split()]\n",
    "# print(colecao)"
   ]
  },
  {
   "cell_type": "code",
   "execution_count": 33,
   "metadata": {},
   "outputs": [],
   "source": [
    "# Passo 2: separar minha colecao em n-gramas de tamanho inferior a n\n",
    "from nltk import everygrams\n",
    "from nltk.lm.preprocessing import pad_both_ends\n",
    "n = 2\n",
    "\n",
    "# a - encontrar todos os n-gramas de tamanho igual ou menor que N\n",
    "ngramas = [everygrams(c, max_len=n) for c in colecao]\n",
    "print([list (c) for c in ngramas])\n",
    "print(\"-----\")\n",
    "\n",
    "# b - padding para lidar com início e fim de sequências\n",
    "colecao_pad = [pad_both_ends(c, n) for c in colecao]\n",
    "print([list(c) for c in colecao_pad])\n",
    "print(\"-----\")\n",
    "\n",
    "# c- juntar padding com encontrar n-gramas\n",
    "colecao_pad = [pad_both_ends(c, n) for c in colecao]\n",
    "ngramas = [everygrams(c, max_len=n) for c in colecao_pad]\n",
    "print([list (c) for c in ngramas])\n"
   ]
  },
  {
   "cell_type": "code",
   "execution_count": null,
   "metadata": {},
   "outputs": [
    {
     "name": "stdout",
     "output_type": "stream",
     "text": [
      "['<s>', 'uma', 'frase', 'da', 'minha', 'coleção', '</s>', '<s>', 'outra', 'frase', 'da', 'minha', 'coleção', '</s>', '<s>', 'uma', 'frase', 'nada', 'a', 'ver', 'com', 'as', 'outras', '</s>']\n"
     ]
    }
   ],
   "source": [
    "# Passo 3 - encontrar o vocabulário de n-gramas\n",
    "from nltk.lm.preprocessing import flatten\n",
    "\n",
    "colecao_pad = [pad_both_ends(c, n) for c in colecao]\n",
    "ngramas = [everygrams(c, max_len=n) for c in colecao_pad]\n",
    "vocab = flatten(pad_both_ends(c, n) for c in colecao)\n",
    "print(list(vocab))"
   ]
  },
  {
   "cell_type": "code",
   "execution_count": 7,
   "metadata": {},
   "outputs": [],
   "source": [
    "# Passo 4 - treinar nosso modelo\n",
    "from nltk.lm import MLE \n",
    "\n",
    "lm = MLE(n)\n",
    "colecao_pad = [pad_both_ends(c, n) for c in colecao]\n",
    "ngramas = [everygrams(c, max_len=n) for c in colecao_pad]\n",
    "vocab = flatten(pad_both_ends(c, n) for c in colecao)\n",
    "lm.fit(ngramas, vocab)"
   ]
  },
  {
   "cell_type": "code",
   "execution_count": 8,
   "metadata": {},
   "outputs": [
    {
     "name": "stdout",
     "output_type": "stream",
     "text": [
      "15\n",
      "---\n",
      "['<s>', 'uma', 'frase', 'da', 'minha', 'coleção', '</s>', 'outra', 'nada', 'a', 'ver', 'com', 'as', 'outras', '<UNK>']\n",
      "---\n",
      "('uma', 'frase')\n",
      "---\n",
      "0.125\n",
      "---\n",
      "1.0\n"
     ]
    }
   ],
   "source": [
    "# Passo 5 - visualizar propriedades do modelo\n",
    "print (len(lm.vocab)) # Quantas palavras tem no meu vocabulario\n",
    "print(\"---\")\n",
    "print(list(lm.vocab)) # Quais sao as palavras do meu vocabulario\n",
    "print(\"---\")\n",
    "print(lm.vocab.lookup(\"uma frase\".split())) # Este ngrama faz parte do vocabulario?\n",
    "print(\"---\")\n",
    "print(lm.score(\"frase\")) # Qual é a probabilidade de encontrar esta palavra?\n",
    "print(\"---\")\n",
    "print(lm.score(\"frase\", \"uma\".split())) # Qual é a probabilidade de encontrar esta palavra dado este contexto?"
   ]
  },
  {
   "cell_type": "code",
   "execution_count": 9,
   "metadata": {},
   "outputs": [
    {
     "name": "stdout",
     "output_type": "stream",
     "text": [
      "15\n",
      "---\n",
      "['<s>', 'uma', 'frase', 'da', 'minha', 'coleção', '</s>', 'outra', 'nada', 'a', 'ver', 'com', 'as', 'outras', '<UNK>']\n",
      "---\n",
      "('uma', 'frase')\n",
      "---\n",
      "0.125\n",
      "---\n",
      "1.0\n"
     ]
    }
   ],
   "source": [
    "# Passo 6 - Usar uma API mais condensada para treinar o modelo\n",
    "from nltk.lm.preprocessing import padded_everygram_pipeline\n",
    "train_data, vocab = padded_everygram_pipeline(n, colecao)\n",
    "lm = MLE(n)\n",
    "lm.fit(train_data, vocab)\n",
    "\n",
    "print (len(lm.vocab)) # Quantas palavras tem no meu vocabulario\n",
    "print(\"---\")\n",
    "print(list(lm.vocab)) # Quais sao as palavras do meu vocabulario\n",
    "print(\"---\")\n",
    "print(lm.vocab.lookup(\"uma frase\".split())) # Este ngrama faz parte do vocabulario?\n",
    "print(\"---\")\n",
    "print(lm.score(\"frase\")) # Qual é a probabilidade de encontrar esta palavra?\n",
    "print(\"---\")\n",
    "print(lm.score(\"frase\", \"uma\".split())) # Qual é a probabilidade de encontrar esta palavra dado este contexto?\n"
   ]
  },
  {
   "cell_type": "code",
   "execution_count": 20,
   "metadata": {},
   "outputs": [
    {
     "name": "stdout",
     "output_type": "stream",
     "text": [
      "da minha coleção </s> uma frase da minha coleção </s> minha coleção </s> a ver com as outras </s> as\n"
     ]
    }
   ],
   "source": [
    "# Passo 7 - Gerar textos com nosso modelo!\n",
    "texto_ = lm.generate(20)\n",
    "texto_ = \" \".join(texto_)\n",
    "print(texto_)"
   ]
  },
  {
   "cell_type": "code",
   "execution_count": null,
   "metadata": {},
   "outputs": [],
   "source": []
  },
  {
   "cell_type": "code",
   "execution_count": null,
   "metadata": {},
   "outputs": [],
   "source": []
  }
 ],
 "metadata": {
  "interpreter": {
   "hash": "b3ba2566441a7c06988d0923437866b63cedc61552a5af99d1f4fb67d367b25f"
  },
  "kernelspec": {
   "display_name": "Python 3.9.7 64-bit ('base': conda)",
   "language": "python",
   "name": "python3"
  },
  "language_info": {
   "codemirror_mode": {
    "name": "ipython",
    "version": 3
   },
   "file_extension": ".py",
   "mimetype": "text/x-python",
   "name": "python",
   "nbconvert_exporter": "python",
   "pygments_lexer": "ipython3",
   "version": "3.9.2"
  },
  "orig_nbformat": 4
 },
 "nbformat": 4,
 "nbformat_minor": 2
}
